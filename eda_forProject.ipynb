{
 "metadata": {
  "language_info": {
   "codemirror_mode": {
    "name": "ipython",
    "version": 3
   },
   "file_extension": ".py",
   "mimetype": "text/x-python",
   "name": "python",
   "nbconvert_exporter": "python",
   "pygments_lexer": "ipython3",
   "version": "3.8.5-final"
  },
  "orig_nbformat": 2,
  "kernelspec": {
   "name": "python38564bit92e536480fe14d4db0d4fd73001cbfdb",
   "display_name": "Python 3.8.5 64-bit"
  }
 },
 "nbformat": 4,
 "nbformat_minor": 2,
 "cells": [
  {
   "cell_type": "code",
   "execution_count": 1,
   "metadata": {},
   "outputs": [],
   "source": [
    "import numpy as np \n",
    "import pandas as pd \n",
    "import matplotlib.pyplot as plt "
   ]
  },
  {
   "cell_type": "code",
   "execution_count": 2,
   "metadata": {},
   "outputs": [
    {
     "output_type": "execute_result",
     "data": {
      "text/plain": [
       "     Major_code                                            Major  \\\n",
       "0          1100                              GENERAL AGRICULTURE   \n",
       "1          1101            AGRICULTURE PRODUCTION AND MANAGEMENT   \n",
       "2          1102                           AGRICULTURAL ECONOMICS   \n",
       "3          1103                                  ANIMAL SCIENCES   \n",
       "4          1104                                     FOOD SCIENCE   \n",
       "..          ...                                              ...   \n",
       "168        6211                           HOSPITALITY MANAGEMENT   \n",
       "169        6212    MANAGEMENT INFORMATION SYSTEMS AND STATISTICS   \n",
       "170        6299  MISCELLANEOUS BUSINESS & MEDICAL ADMINISTRATION   \n",
       "171        6402                                          HISTORY   \n",
       "172        6403                            UNITED STATES HISTORY   \n",
       "\n",
       "                      Major_category   Total  Employed  \\\n",
       "0    Agriculture & Natural Resources  128148     90245   \n",
       "1    Agriculture & Natural Resources   95326     76865   \n",
       "2    Agriculture & Natural Resources   33955     26321   \n",
       "3    Agriculture & Natural Resources  103549     81177   \n",
       "4    Agriculture & Natural Resources   24280     17281   \n",
       "..                               ...     ...       ...   \n",
       "168                         Business  200854    163393   \n",
       "169                         Business  156673    134478   \n",
       "170                         Business  102753     77471   \n",
       "171        Humanities & Liberal Arts  712509    478416   \n",
       "172        Humanities & Liberal Arts   17746     11887   \n",
       "\n",
       "     Employed_full_time_year_round  Unemployed  Unemployment_rate  Median  \\\n",
       "0                            74078        2423           0.026147   50000   \n",
       "1                            64240        2266           0.028636   54000   \n",
       "2                            22810         821           0.030248   63000   \n",
       "3                            64937        3619           0.042679   46000   \n",
       "4                            12722         894           0.049188   62000   \n",
       "..                             ...         ...                ...     ...   \n",
       "168                         122499        8862           0.051447   49000   \n",
       "169                         118249        6186           0.043977   72000   \n",
       "170                          61603        4308           0.052679   53000   \n",
       "171                         354163       33725           0.065851   50000   \n",
       "172                           8204         943           0.073500   50000   \n",
       "\n",
       "     P25th     P75th  \n",
       "0    34000   80000.0  \n",
       "1    36000   80000.0  \n",
       "2    40000   98000.0  \n",
       "3    30000   72000.0  \n",
       "4    38500   90000.0  \n",
       "..     ...       ...  \n",
       "168  33000   70000.0  \n",
       "169  50000  100000.0  \n",
       "170  36000   83000.0  \n",
       "171  35000   80000.0  \n",
       "172  39000   81000.0  \n",
       "\n",
       "[173 rows x 11 columns]"
      ],
      "text/html": "<div>\n<style scoped>\n    .dataframe tbody tr th:only-of-type {\n        vertical-align: middle;\n    }\n\n    .dataframe tbody tr th {\n        vertical-align: top;\n    }\n\n    .dataframe thead th {\n        text-align: right;\n    }\n</style>\n<table border=\"1\" class=\"dataframe\">\n  <thead>\n    <tr style=\"text-align: right;\">\n      <th></th>\n      <th>Major_code</th>\n      <th>Major</th>\n      <th>Major_category</th>\n      <th>Total</th>\n      <th>Employed</th>\n      <th>Employed_full_time_year_round</th>\n      <th>Unemployed</th>\n      <th>Unemployment_rate</th>\n      <th>Median</th>\n      <th>P25th</th>\n      <th>P75th</th>\n    </tr>\n  </thead>\n  <tbody>\n    <tr>\n      <th>0</th>\n      <td>1100</td>\n      <td>GENERAL AGRICULTURE</td>\n      <td>Agriculture &amp; Natural Resources</td>\n      <td>128148</td>\n      <td>90245</td>\n      <td>74078</td>\n      <td>2423</td>\n      <td>0.026147</td>\n      <td>50000</td>\n      <td>34000</td>\n      <td>80000.0</td>\n    </tr>\n    <tr>\n      <th>1</th>\n      <td>1101</td>\n      <td>AGRICULTURE PRODUCTION AND MANAGEMENT</td>\n      <td>Agriculture &amp; Natural Resources</td>\n      <td>95326</td>\n      <td>76865</td>\n      <td>64240</td>\n      <td>2266</td>\n      <td>0.028636</td>\n      <td>54000</td>\n      <td>36000</td>\n      <td>80000.0</td>\n    </tr>\n    <tr>\n      <th>2</th>\n      <td>1102</td>\n      <td>AGRICULTURAL ECONOMICS</td>\n      <td>Agriculture &amp; Natural Resources</td>\n      <td>33955</td>\n      <td>26321</td>\n      <td>22810</td>\n      <td>821</td>\n      <td>0.030248</td>\n      <td>63000</td>\n      <td>40000</td>\n      <td>98000.0</td>\n    </tr>\n    <tr>\n      <th>3</th>\n      <td>1103</td>\n      <td>ANIMAL SCIENCES</td>\n      <td>Agriculture &amp; Natural Resources</td>\n      <td>103549</td>\n      <td>81177</td>\n      <td>64937</td>\n      <td>3619</td>\n      <td>0.042679</td>\n      <td>46000</td>\n      <td>30000</td>\n      <td>72000.0</td>\n    </tr>\n    <tr>\n      <th>4</th>\n      <td>1104</td>\n      <td>FOOD SCIENCE</td>\n      <td>Agriculture &amp; Natural Resources</td>\n      <td>24280</td>\n      <td>17281</td>\n      <td>12722</td>\n      <td>894</td>\n      <td>0.049188</td>\n      <td>62000</td>\n      <td>38500</td>\n      <td>90000.0</td>\n    </tr>\n    <tr>\n      <th>...</th>\n      <td>...</td>\n      <td>...</td>\n      <td>...</td>\n      <td>...</td>\n      <td>...</td>\n      <td>...</td>\n      <td>...</td>\n      <td>...</td>\n      <td>...</td>\n      <td>...</td>\n      <td>...</td>\n    </tr>\n    <tr>\n      <th>168</th>\n      <td>6211</td>\n      <td>HOSPITALITY MANAGEMENT</td>\n      <td>Business</td>\n      <td>200854</td>\n      <td>163393</td>\n      <td>122499</td>\n      <td>8862</td>\n      <td>0.051447</td>\n      <td>49000</td>\n      <td>33000</td>\n      <td>70000.0</td>\n    </tr>\n    <tr>\n      <th>169</th>\n      <td>6212</td>\n      <td>MANAGEMENT INFORMATION SYSTEMS AND STATISTICS</td>\n      <td>Business</td>\n      <td>156673</td>\n      <td>134478</td>\n      <td>118249</td>\n      <td>6186</td>\n      <td>0.043977</td>\n      <td>72000</td>\n      <td>50000</td>\n      <td>100000.0</td>\n    </tr>\n    <tr>\n      <th>170</th>\n      <td>6299</td>\n      <td>MISCELLANEOUS BUSINESS &amp; MEDICAL ADMINISTRATION</td>\n      <td>Business</td>\n      <td>102753</td>\n      <td>77471</td>\n      <td>61603</td>\n      <td>4308</td>\n      <td>0.052679</td>\n      <td>53000</td>\n      <td>36000</td>\n      <td>83000.0</td>\n    </tr>\n    <tr>\n      <th>171</th>\n      <td>6402</td>\n      <td>HISTORY</td>\n      <td>Humanities &amp; Liberal Arts</td>\n      <td>712509</td>\n      <td>478416</td>\n      <td>354163</td>\n      <td>33725</td>\n      <td>0.065851</td>\n      <td>50000</td>\n      <td>35000</td>\n      <td>80000.0</td>\n    </tr>\n    <tr>\n      <th>172</th>\n      <td>6403</td>\n      <td>UNITED STATES HISTORY</td>\n      <td>Humanities &amp; Liberal Arts</td>\n      <td>17746</td>\n      <td>11887</td>\n      <td>8204</td>\n      <td>943</td>\n      <td>0.073500</td>\n      <td>50000</td>\n      <td>39000</td>\n      <td>81000.0</td>\n    </tr>\n  </tbody>\n</table>\n<p>173 rows × 11 columns</p>\n</div>"
     },
     "metadata": {},
     "execution_count": 2
    }
   ],
   "source": [
    "majors = pd.read_csv('college-majors/all-ages.csv')\n",
    "majors"
   ]
  },
  {
   "cell_type": "code",
   "execution_count": 3,
   "metadata": {},
   "outputs": [
    {
     "output_type": "execute_result",
     "data": {
      "text/plain": [
       "        Major_code         Total      Employed  Employed_full_time_year_round  \\\n",
       "count   173.000000  1.730000e+02  1.730000e+02                   1.730000e+02   \n",
       "mean   3879.815029  2.302566e+05  1.661620e+05                   1.263078e+05   \n",
       "std    1687.753140  4.220685e+05  3.073244e+05                   2.424254e+05   \n",
       "min    1100.000000  2.396000e+03  1.492000e+03                   1.093000e+03   \n",
       "25%    2403.000000  2.428000e+04  1.728100e+04                   1.272200e+04   \n",
       "50%    3608.000000  7.579100e+04  5.656400e+04                   3.961300e+04   \n",
       "75%    5503.000000  2.057630e+05  1.428790e+05                   1.110250e+05   \n",
       "max    6403.000000  3.123510e+06  2.354398e+06                   1.939384e+06   \n",
       "\n",
       "          Unemployed  Unemployment_rate         Median         P25th  \\\n",
       "count     173.000000         173.000000     173.000000    173.000000   \n",
       "mean     9725.034682           0.057355   56816.184971  38697.109827   \n",
       "std     18022.040192           0.019177   14706.226865   9414.524761   \n",
       "min         0.000000           0.000000   35000.000000  24900.000000   \n",
       "25%      1101.000000           0.046261   46000.000000  32000.000000   \n",
       "50%      3619.000000           0.054719   53000.000000  36000.000000   \n",
       "75%      8862.000000           0.069043   65000.000000  42000.000000   \n",
       "max    147261.000000           0.156147  125000.000000  78000.000000   \n",
       "\n",
       "               P75th  \n",
       "count     173.000000  \n",
       "mean    82506.358382  \n",
       "std     20805.330126  \n",
       "min     45800.000000  \n",
       "25%     70000.000000  \n",
       "50%     80000.000000  \n",
       "75%     95000.000000  \n",
       "max    210000.000000  "
      ],
      "text/html": "<div>\n<style scoped>\n    .dataframe tbody tr th:only-of-type {\n        vertical-align: middle;\n    }\n\n    .dataframe tbody tr th {\n        vertical-align: top;\n    }\n\n    .dataframe thead th {\n        text-align: right;\n    }\n</style>\n<table border=\"1\" class=\"dataframe\">\n  <thead>\n    <tr style=\"text-align: right;\">\n      <th></th>\n      <th>Major_code</th>\n      <th>Total</th>\n      <th>Employed</th>\n      <th>Employed_full_time_year_round</th>\n      <th>Unemployed</th>\n      <th>Unemployment_rate</th>\n      <th>Median</th>\n      <th>P25th</th>\n      <th>P75th</th>\n    </tr>\n  </thead>\n  <tbody>\n    <tr>\n      <th>count</th>\n      <td>173.000000</td>\n      <td>1.730000e+02</td>\n      <td>1.730000e+02</td>\n      <td>1.730000e+02</td>\n      <td>173.000000</td>\n      <td>173.000000</td>\n      <td>173.000000</td>\n      <td>173.000000</td>\n      <td>173.000000</td>\n    </tr>\n    <tr>\n      <th>mean</th>\n      <td>3879.815029</td>\n      <td>2.302566e+05</td>\n      <td>1.661620e+05</td>\n      <td>1.263078e+05</td>\n      <td>9725.034682</td>\n      <td>0.057355</td>\n      <td>56816.184971</td>\n      <td>38697.109827</td>\n      <td>82506.358382</td>\n    </tr>\n    <tr>\n      <th>std</th>\n      <td>1687.753140</td>\n      <td>4.220685e+05</td>\n      <td>3.073244e+05</td>\n      <td>2.424254e+05</td>\n      <td>18022.040192</td>\n      <td>0.019177</td>\n      <td>14706.226865</td>\n      <td>9414.524761</td>\n      <td>20805.330126</td>\n    </tr>\n    <tr>\n      <th>min</th>\n      <td>1100.000000</td>\n      <td>2.396000e+03</td>\n      <td>1.492000e+03</td>\n      <td>1.093000e+03</td>\n      <td>0.000000</td>\n      <td>0.000000</td>\n      <td>35000.000000</td>\n      <td>24900.000000</td>\n      <td>45800.000000</td>\n    </tr>\n    <tr>\n      <th>25%</th>\n      <td>2403.000000</td>\n      <td>2.428000e+04</td>\n      <td>1.728100e+04</td>\n      <td>1.272200e+04</td>\n      <td>1101.000000</td>\n      <td>0.046261</td>\n      <td>46000.000000</td>\n      <td>32000.000000</td>\n      <td>70000.000000</td>\n    </tr>\n    <tr>\n      <th>50%</th>\n      <td>3608.000000</td>\n      <td>7.579100e+04</td>\n      <td>5.656400e+04</td>\n      <td>3.961300e+04</td>\n      <td>3619.000000</td>\n      <td>0.054719</td>\n      <td>53000.000000</td>\n      <td>36000.000000</td>\n      <td>80000.000000</td>\n    </tr>\n    <tr>\n      <th>75%</th>\n      <td>5503.000000</td>\n      <td>2.057630e+05</td>\n      <td>1.428790e+05</td>\n      <td>1.110250e+05</td>\n      <td>8862.000000</td>\n      <td>0.069043</td>\n      <td>65000.000000</td>\n      <td>42000.000000</td>\n      <td>95000.000000</td>\n    </tr>\n    <tr>\n      <th>max</th>\n      <td>6403.000000</td>\n      <td>3.123510e+06</td>\n      <td>2.354398e+06</td>\n      <td>1.939384e+06</td>\n      <td>147261.000000</td>\n      <td>0.156147</td>\n      <td>125000.000000</td>\n      <td>78000.000000</td>\n      <td>210000.000000</td>\n    </tr>\n  </tbody>\n</table>\n</div>"
     },
     "metadata": {},
     "execution_count": 3
    }
   ],
   "source": [
    "majors.describe()"
   ]
  },
  {
   "cell_type": "code",
   "execution_count": null,
   "metadata": {},
   "outputs": [],
   "source": []
  }
 ]
}