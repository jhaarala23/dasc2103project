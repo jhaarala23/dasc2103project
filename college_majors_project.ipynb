{
 "metadata": {
  "language_info": {
   "codemirror_mode": {
    "name": "ipython",
    "version": 3
   },
   "file_extension": ".py",
   "mimetype": "text/x-python",
   "name": "python",
   "nbconvert_exporter": "python",
   "pygments_lexer": "ipython3",
   "version": "3.9.6-final"
  },
  "orig_nbformat": 2,
  "kernelspec": {
   "name": "python39664bit1bef00bdd08744f48c6d24f98b78386a",
   "display_name": "Python 3.9.6 64-bit"
  }
 },
 "nbformat": 4,
 "nbformat_minor": 2,
 "cells": [
  {
   "cell_type": "code",
   "execution_count": 1,
   "metadata": {},
   "outputs": [],
   "source": [
    "# import the appropriate packages for the project\n",
    "\n",
    "import numpy as np \n",
    "import pandas as pd \n",
    "from scipy import stats\n",
    "import matplotlib.pyplot as plt \n",
    "import seaborn as sns"
   ]
  },
  {
   "cell_type": "markdown",
   "metadata": {},
   "source": [
    "College Majors Analysis Project\n",
    "===============================\n",
    "\n",
    "\n",
    "Introduction\n",
    "------------\n",
    "\n",
    "For many college students they reach a point in their studies where they must ask themselves a very import question: \"Is it worth it for me to go to graduate school?\" Some areas seem like it's a requirement if your goal is to make a average or above average salary. Some areas, especially those within STEM, allow for students to enter the workforce right after college and land a decent job. However, everyone's different and it can be difficult to find out just how much post-secondary level education you really need for that dream job of yours (outside of specific situations like Nursing students who need to go to Med School). The purpose of our project is to find majors that benefit the most from making the decision to go to grad school. We'll decide this using factors like median salary and unemployment rate of those who went to graduate school for said degrees."
   ]
  }
 ]
}